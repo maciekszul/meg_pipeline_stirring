{
 "cells": [
  {
   "cell_type": "code",
   "execution_count": 1,
   "metadata": {},
   "outputs": [
    {
     "name": "stdout",
     "output_type": "stream",
     "text": [
      "Using matplotlib backend: Qt5Agg\n"
     ]
    }
   ],
   "source": [
    "import mne\n",
    "import pickle\n",
    "import numpy as np\n",
    "\n",
    "import matplotlib.pylab as plt\n",
    "import os.path as op\n",
    "from tools import files\n",
    "%matplotlib"
   ]
  },
  {
   "cell_type": "code",
   "execution_count": 2,
   "metadata": {},
   "outputs": [],
   "source": [
    "pickle_file = \"/cubric/scratch/c1557187/stirring_source/data/01_40_avg_ch.pickle\""
   ]
  },
  {
   "cell_type": "code",
   "execution_count": 3,
   "metadata": {},
   "outputs": [],
   "source": [
    "with open(pickle_file, \"rb\") as input_file:\n",
    "    data = pickle.load(input_file)"
   ]
  },
  {
   "cell_type": "code",
   "execution_count": 4,
   "metadata": {},
   "outputs": [],
   "source": [
    "conditions = {\n",
    "    'hR_hR': 1, \n",
    "    'hR_hL': 2, \n",
    "    'hR_lR': 3, \n",
    "    'hR_lL': 4, \n",
    "    'hL_hR': 5, \n",
    "    'hL_hL': 6, \n",
    "    'hL_lR': 7, \n",
    "    'hL_lL': 8\n",
    "}\n",
    "\n",
    "n_subjects = 13"
   ]
  },
  {
   "cell_type": "code",
   "execution_count": 5,
   "metadata": {},
   "outputs": [],
   "source": [
    "comp_cond = [[\"1\", \"6\"], [\"3\", \"8\"]] # high coherence vs low coherence no change\n",
    "# comp_cond = [[], []]"
   ]
  },
  {
   "cell_type": "code",
   "execution_count": 6,
   "metadata": {},
   "outputs": [],
   "source": [
    "X1 = np.array([np.transpose(i.data, axes=[1, 0]) for cond in comp_cond[0] for i in data[cond]])\n",
    "X2 = np.array([np.transpose(i.data, axes=[1, 0]) for cond in comp_cond[1] for i in data[cond]])"
   ]
  },
  {
   "cell_type": "code",
   "execution_count": 7,
   "metadata": {},
   "outputs": [],
   "source": [
    "src = mne.setup_source_space(\n",
    "    subject=\"fsaverage\", \n",
    "    subjects_dir=\"/cubric/data/c1557187/stirring_MEG/mri/fs_results\", \n",
    "    spacing=\"ico5\", \n",
    "    add_dist=False\n",
    ")\n",
    "\n",
    "connectivity = mne.spatial_src_connectivity(src)"
   ]
  },
  {
   "cell_type": "code",
   "execution_count": 9,
   "metadata": {},
   "outputs": [],
   "source": [
    "p_threshold = 0.001\n",
    "f_threshold = stats.distributions.f.ppf(\n",
    "    1. - p_threshold / 2.,\n",
    "    n_subjects - 1, n_subjects - 1)"
   ]
  },
  {
   "cell_type": "code",
   "execution_count": null,
   "metadata": {},
   "outputs": [
    {
     "name": "stdout",
     "output_type": "stream",
     "text": [
      "stat_fun(H1): min=-0.000000 max=30.548934\n",
      "Running initial clustering\n",
      "Found 7529 clusters\n",
      "Permuting 1023 times...\n",
      "[                                        ]   0.00%  |   "
     ]
    }
   ],
   "source": [
    "clu = mne.stats.spatio_temporal_cluster_test(\n",
    "    [X1, X2],\n",
    "    connectivity=connectivity,\n",
    "    n_jobs=-1,\n",
    "    threshold=f_threshold,\n",
    "    verbose=True,\n",
    "    buffer_size=10\n",
    ")"
   ]
  },
  {
   "cell_type": "code",
   "execution_count": null,
   "metadata": {},
   "outputs": [],
   "source": []
  }
 ],
 "metadata": {
  "kernelspec": {
   "display_name": "Python 3",
   "language": "python",
   "name": "python3"
  },
  "language_info": {
   "codemirror_mode": {
    "name": "ipython",
    "version": 3
   },
   "file_extension": ".py",
   "mimetype": "text/x-python",
   "name": "python",
   "nbconvert_exporter": "python",
   "pygments_lexer": "ipython3",
   "version": "3.6.8"
  }
 },
 "nbformat": 4,
 "nbformat_minor": 2
}
