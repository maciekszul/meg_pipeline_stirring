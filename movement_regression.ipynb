{
 "cells": [
  {
   "cell_type": "code",
   "execution_count": 1,
   "metadata": {},
   "outputs": [],
   "source": [
    "import mne\n",
    "import os.path as op\n",
    "import numpy as np\n",
    "import pandas as pd\n",
    "import pickle\n",
    "import statsmodels.api as sm\n",
    "import matplotlib.pylab as plt\n",
    "from joblib import Parallel, delayed"
   ]
  },
  {
   "cell_type": "code",
   "execution_count": 2,
   "metadata": {},
   "outputs": [],
   "source": [
    "beh_file = \"/cubric/scratch/c1557187/energy_landscape/021/resamp_beh.pkl\"\n",
    "stc_file = \"/cubric/scratch/c1557187/stirring_source/data/021/filtered_01_40/src_en_dSPM.pickle\""
   ]
  },
  {
   "cell_type": "code",
   "execution_count": 3,
   "metadata": {},
   "outputs": [],
   "source": [
    "beh = pd.read_pickle(beh_file)\n",
    "# with open(stc_file, \"rb\") as input_file:\n",
    "#         stc = pickle.load(input_file)"
   ]
  },
  {
   "cell_type": "code",
   "execution_count": 4,
   "metadata": {},
   "outputs": [],
   "source": [
    "beh_data = beh.iloc[1]"
   ]
  },
  {
   "cell_type": "code",
   "execution_count": 5,
   "metadata": {},
   "outputs": [
    {
     "data": {
      "text/plain": [
       "subject                                                       21\n",
       "clockwise                                                      1\n",
       "trial                                                          1\n",
       "run                                                            0\n",
       "session                                                        3\n",
       "conditions                                                     5\n",
       "comb_cond                                                      0\n",
       "engage_rt                                                0.82988\n",
       "change_rt                                             0.00867929\n",
       "acc_phase1                                              0.530069\n",
       "acc_phase2                                                 0.999\n",
       "x              [0.0, 0.0, 0.0, 0.0, 0.0, 0.0, 0.0, 0.0, 0.0, ...\n",
       "y              [0.0, 0.0, 0.0, 0.0, 0.0, 0.0, 0.0, 0.0, 0.0, ...\n",
       "angle          [0.0, 0.0, 0.0, 0.0, 0.0, 0.0, 0.0, 0.0, 0.0, ...\n",
       "radius         [0.0, 0.0, 0.0, 0.0, 0.0, 0.0, 0.0, 0.0, 0.0, ...\n",
       "engage_ix                                                    252\n",
       "degs_smooth    [0.0, 0.0, 0.0, 0.0, 0.0, 0.0, 0.0, 0.0, 0.0, ...\n",
       "change_ix                                                    552\n",
       "Name: 1, dtype: object"
      ]
     },
     "execution_count": 5,
     "metadata": {},
     "output_type": "execute_result"
    }
   ],
   "source": [
    "beh_data"
   ]
  },
  {
   "cell_type": "code",
   "execution_count": 6,
   "metadata": {},
   "outputs": [],
   "source": [
    "stc = mne.read_source_estimate(\"source_est_1\")\n",
    "stc_data = stc.data"
   ]
  },
  {
   "cell_type": "code",
   "execution_count": 7,
   "metadata": {},
   "outputs": [],
   "source": [
    "X = beh_data.angle[beh_data.engage_ix-51:beh_data.engage_ix+300]\n",
    "def ios(ix, X, stc_data):\n",
    "    Y = stc_data[ix]\n",
    "    model = sm.OLS(X, Y)\n",
    "    results = model.fit()\n",
    "    return (results.rsquared_adj, results.params[0])\n",
    "\n",
    "results = Parallel(n_jobs=-1, backend=\"multiprocessing\", verbose=0)(delayed(ios)(ix, X, stc_data) for ix in range((stc_data.shape[0])))"
   ]
  },
  {
   "cell_type": "code",
   "execution_count": 8,
   "metadata": {},
   "outputs": [],
   "source": [
    "results = np.array(results)\n",
    "r2_adj = results[:,0]\n",
    "beta = results[:,1]"
   ]
  },
  {
   "cell_type": "code",
   "execution_count": 9,
   "metadata": {},
   "outputs": [],
   "source": [
    "# stc.data = np.abs(np.array([r2_adj, r2_adj]).transpose())\n",
    "stc.data = np.array([beta, beta]).transpose()"
   ]
  },
  {
   "cell_type": "code",
   "execution_count": 10,
   "metadata": {},
   "outputs": [
    {
     "name": "stdout",
     "output_type": "stream",
     "text": [
      "Using matplotlib backend: Qt5Agg\n"
     ]
    }
   ],
   "source": [
    "%matplotlib\n",
    "stc.plot(hemi=\"both\", subject=\"fsaverage\", time_viewer=True);"
   ]
  },
  {
   "cell_type": "code",
   "execution_count": 11,
   "metadata": {},
   "outputs": [
    {
     "data": {
      "text/plain": [
       "0.23305370840465855"
      ]
     },
     "execution_count": 11,
     "metadata": {},
     "output_type": "execute_result"
    }
   ],
   "source": [
    "r2_adj.min()"
   ]
  },
  {
   "cell_type": "code",
   "execution_count": null,
   "metadata": {},
   "outputs": [],
   "source": []
  }
 ],
 "metadata": {
  "kernelspec": {
   "display_name": "Python 3",
   "language": "python",
   "name": "python3"
  },
  "language_info": {
   "codemirror_mode": {
    "name": "ipython",
    "version": 3
   },
   "file_extension": ".py",
   "mimetype": "text/x-python",
   "name": "python",
   "nbconvert_exporter": "python",
   "pygments_lexer": "ipython3",
   "version": "3.6.8"
  }
 },
 "nbformat": 4,
 "nbformat_minor": 2
}
