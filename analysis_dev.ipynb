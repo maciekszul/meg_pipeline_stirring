{
 "cells": [
  {
   "cell_type": "code",
   "execution_count": 1,
   "metadata": {},
   "outputs": [
    {
     "name": "stdout",
     "output_type": "stream",
     "text": [
      "Using matplotlib backend: Qt5Agg\n"
     ]
    }
   ],
   "source": [
    "import mne\n",
    "import pickle\n",
    "import numpy as np\n",
    "import matplotlib.pylab as plt\n",
    "import os.path as op\n",
    "from tools import files\n",
    "%matplotlib"
   ]
  },
  {
   "cell_type": "code",
   "execution_count": 2,
   "metadata": {},
   "outputs": [],
   "source": [
    "data_folder = \"/cubric/scratch/c1557187/stirring_source/data\""
   ]
  },
  {
   "cell_type": "code",
   "execution_count": 3,
   "metadata": {},
   "outputs": [],
   "source": [
    "all_participants = files.get_folders_files(data_folder, wp=False)[0]\n",
    "garbage = [\"001\", \"043\", \"042\"]\n",
    "participants = [i for i in all_participants if i not in garbage]"
   ]
  },
  {
   "cell_type": "code",
   "execution_count": 6,
   "metadata": {},
   "outputs": [],
   "source": [
    "output = {str(i): [] for i in range(1,9)}\n",
    "\n",
    "for i in participants:\n",
    "    data_path = op.join(data_folder, i, \"filtered_01_40\")\n",
    "    epoch_paths = files.get_files(data_path, \"ph2\", \"epo.fif\")[2]\n",
    "    epoch_paths.sort()\n",
    "    fwd_paths = files.get_files(op.join(data_folder, i), \"\", \"fwd.fif\")[2]\n",
    "    fwd_paths = [i for i in fwd_paths if \"rs\" not in i]\n",
    "    fwd_paths.sort()\n",
    "    noise_paths = files.get_files(data_path, \"mx\", \"cov.fif\")[2]\n",
    "    noise_paths = [i for i in noise_paths if \"rs\" not in i]\n",
    "    noise_paths.sort()\n",
    "#     src_path = files.get_files(op.join(data_folder, i), i, \"src.fif\")[2][0]\n",
    "#     src = mne.read_source_spaces(src_path)\n",
    "    \n",
    "    for e, f, n in zip(epoch_paths, fwd_paths, noise_paths):\n",
    "#         print(e, f, n)\n",
    "        epo = mne.read_epochs(e)\n",
    "        fwd = mne.read_forward_solution(f)\n",
    "        noise = mne.read_cov(n)\n",
    "        inv = mne.minimum_norm.make_inverse_operator(epo.info, fwd, noise, depth=None, fixed=False)\n",
    "        lambda2 = 1.0 / 3.0 ** 2\n",
    "        for k in output.keys():\n",
    "            avg_epo = epo[k].average()\n",
    "            stc = mne.minimum_norm.apply_inverse(avg_epo, inv, lambda2, \"dSPM\", pick_ori=None)\n",
    "            morph = mne.compute_source_morph(stc, subject_from=i, subject_to=\"fsaverage\", subjects_dir=\"/cubric/data/c1557187/stirring_MEG/mri/fs_results\")\n",
    "            stc_fs = morph.apply(stc)\n",
    "            output[k].append(stc_fs)       "
   ]
  },
  {
   "cell_type": "code",
   "execution_count": 7,
   "metadata": {},
   "outputs": [],
   "source": [
    "filename = op.join(data_folder, \"01_40_avg_ph2.pickle\")\n",
    "with open(filename, \"wb\") as f:\n",
    "    pickle.dump(output, f)"
   ]
  },
  {
   "cell_type": "code",
   "execution_count": null,
   "metadata": {},
   "outputs": [],
   "source": []
  }
 ],
 "metadata": {
  "kernelspec": {
   "display_name": "Python 3",
   "language": "python",
   "name": "python3"
  },
  "language_info": {
   "codemirror_mode": {
    "name": "ipython",
    "version": 3
   },
   "file_extension": ".py",
   "mimetype": "text/x-python",
   "name": "python",
   "nbconvert_exporter": "python",
   "pygments_lexer": "ipython3",
   "version": "3.6.8"
  }
 },
 "nbformat": 4,
 "nbformat_minor": 2
}
